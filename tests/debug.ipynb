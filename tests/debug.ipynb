{
 "cells": [
  {
   "cell_type": "code",
   "execution_count": 21,
   "id": "20e86fa9-d320-4850-83fb-8d1e1ff3b4a5",
   "metadata": {},
   "outputs": [
    {
     "name": "stdout",
     "output_type": "stream",
     "text": [
      "The autoreload extension is already loaded. To reload it, use:\n",
      "  %reload_ext autoreload\n"
     ]
    }
   ],
   "source": [
    "%load_ext autoreload\n",
    "\n",
    "%autoreload 2\n",
    "\n",
    "from countrycrab import solver\n",
    "import os\n",
    "os.environ[\"CUDA_VISIBLE_DEVICES\"]=\"0,1,2,3,4,5,6,7\""
   ]
  },
  {
   "cell_type": "markdown",
   "id": "fc0e993e-15d6-455f-9455-56ff255beba4",
   "metadata": {},
   "source": [
    "### Define a dictionary for the solver and run it"
   ]
  },
  {
   "cell_type": "code",
   "execution_count": 23,
   "id": "b8edc340-26be-4307-9f64-fbdf582a04b1",
   "metadata": {},
   "outputs": [],
   "source": [
    "module_path = os.path.abspath(os.path.join(\"\"))\n",
    "config = {'instance': module_path +'/data/uf20-91/uf20-01.cnf',\n",
    "         'noise': 0.8}\n",
    "params = {'max_runs': 100,  #number of of parallel runs\n",
    "         'max_flips': 1000} #number of flips in a single run"
   ]
  },
  {
   "cell_type": "code",
   "execution_count": 24,
   "id": "8bff809c-a385-4eb0-b372-7c9620b00019",
   "metadata": {},
   "outputs": [],
   "source": [
    "test = solver.camsat(config = config, params = params)"
   ]
  },
  {
   "cell_type": "code",
   "execution_count": null,
   "id": "e57c5532-ce71-45b3-8b24-49afbe6d88a7",
   "metadata": {},
   "outputs": [],
   "source": []
  }
 ],
 "metadata": {
  "kernelspec": {
   "display_name": "Python 3 (ipykernel)",
   "language": "python",
   "name": "python3"
  },
  "language_info": {
   "codemirror_mode": {
    "name": "ipython",
    "version": 3
   },
   "file_extension": ".py",
   "mimetype": "text/x-python",
   "name": "python",
   "nbconvert_exporter": "python",
   "pygments_lexer": "ipython3",
   "version": "3.10.12"
  }
 },
 "nbformat": 4,
 "nbformat_minor": 5
}
