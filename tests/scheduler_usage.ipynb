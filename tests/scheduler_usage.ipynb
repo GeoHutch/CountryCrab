{
 "cells": [
  {
   "cell_type": "code",
   "execution_count": 31,
   "id": "f7f841be-6e8f-436d-a327-e4ac91711763",
   "metadata": {},
   "outputs": [
    {
     "name": "stdout",
     "output_type": "stream",
     "text": [
      "The autoreload extension is already loaded. To reload it, use:\n",
      "  %reload_ext autoreload\n"
     ]
    }
   ],
   "source": [
    "%load_ext autoreload\n",
    "\n",
    "%autoreload 2\n",
    "\n",
    "from countrycrab import configure\n",
    "from countrycrab import analyze\n",
    "from countrycrab import cosmetics\n",
    "import os\n",
    "import matplotlib.pyplot as plt\n",
    "import numpy as np\n",
    "import pandas as pd\n",
    "import json\n",
    "import re\n",
    "\n",
    "os.environ[\"CUDA_VISIBLE_DEVICES\"]=\"0,1,2,3,4,5,6,7\""
   ]
  },
  {
   "cell_type": "markdown",
   "id": "dcb52676-5e9b-4004-85ea-9bf0041a5981",
   "metadata": {},
   "source": [
    "### Generate a list of instances for hyperparameters optimization and testing"
   ]
  },
  {
   "cell_type": "markdown",
   "id": "e2090ac1-475d-4432-b8a0-064714e8bb71",
   "metadata": {},
   "source": [
    "In the case, all instance from the SATLIB dataset uf20-91 https://www.cs.ubc.ca/~hoos/SATLIB/benchm.html are in the /data folder\n",
    "\n",
    "20% of them are selected for hyperparemeters optimization and remaining 80% for testing"
   ]
  },
  {
   "cell_type": "code",
   "execution_count": 46,
   "id": "1909d2a3-7d45-46d3-87c3-ec713fdf2f17",
   "metadata": {},
   "outputs": [],
   "source": [
    "module_path = os.path.abspath(os.path.join(\"..\"))\n",
    "instances_path = module_path+'/data/uf20-91/'\n",
    "instances_hpo, instances_test = configure.split_hpo_test(instances_path,hpo_test = 0.2)"
   ]
  },
  {
   "cell_type": "markdown",
   "id": "49916af1-1fcc-43dc-8157-16e58e78f4c8",
   "metadata": {},
   "source": [
    "### Create a configuration file for Hyper Parameters Optimization and save it in the config solver"
   ]
  },
  {
   "cell_type": "code",
   "execution_count": 27,
   "id": "2c200e0c-71cf-4034-a243-5e12a084f9d5",
   "metadata": {},
   "outputs": [],
   "source": [
    "configuration = {\n",
    "    # Heuristic parameters\n",
    "    \"max_runs\": 10000,\n",
    "    \"max_flips\": 1000,\n",
    "    \"noise_distribution\": \"normal\",\n",
    "    # HyperParameters. num_samples points between min_noise and max_noise will be generated for each instance in the instance_list\n",
    "    \"min_noise\":0.5,\n",
    "    \"max_noise\":1,\n",
    "    \"num_samples\": 5,\n",
    "    # Experiments parameter\n",
    "    \"p_solve\": 0.99,\n",
    "    \"task\": \"hpo\",\n",
    "    \"experiment_name\": \"hpo_example\",\n",
    "    \"instance_list\": instances_hpo[0:10],\n",
    "}"
   ]
  },
  {
   "cell_type": "code",
   "execution_count": 28,
   "id": "ae26704e-4cb0-4a7e-8ae0-f266a23b4544",
   "metadata": {},
   "outputs": [],
   "source": [
    "# Specify the filename\n",
    "filename = \"hpo_example.json\"\n",
    "filename = module_path+'/config/'+filename\n",
    "# Writing JSON data\n",
    "with open(filename, 'w') as f:\n",
    "    json.dump(configuration, f, indent=4)\n"
   ]
  },
  {
   "cell_type": "markdown",
   "id": "c1b0a1ac-2fbe-439f-bd91-e01d02384967",
   "metadata": {},
   "source": [
    "### Run the hyperparameters optimization experiment"
   ]
  },
  {
   "cell_type": "markdown",
   "id": "04ef507d-7063-4dfd-806d-70247723cdf2",
   "metadata": {},
   "source": [
    "Open a shell and run<br>\n",
    "`\n",
    "python3 countrycrab/hpo.py --tracking_uri='hpo_test' --config='hpo_example.json' \n",
    "`<br><br>\n",
    "where `tracking_uri` is the mlflow uri where the experiments will be stored, and `config` the configuration file previously created"
   ]
  },
  {
   "cell_type": "markdown",
   "id": "2932b0cd-cd66-46a5-a8c9-4989c787f911",
   "metadata": {},
   "source": [
    "### Analyze the hyperparameters optimization experiment"
   ]
  },
  {
   "cell_type": "code",
   "execution_count": 27,
   "id": "efdfe327-e06e-4dd0-a57d-b30d20f9e5e0",
   "metadata": {},
   "outputs": [
    {
     "name": "stderr",
     "output_type": "stream",
     "text": [
      "WARNING:root:Malformed run '.ipynb_checkpoints'. Detailed error Yaml file '/home/pedretti/projects/CountryCrab/data/experiments/hpo_test/0/.ipynb_checkpoints/meta.yaml' does not exist.\n",
      "Traceback (most recent call last):\n",
      "  File \"/usr/local/lib/python3.10/dist-packages/mlflow/store/tracking/file_store.py\", line 885, in _list_run_infos\n",
      "    run_info = self._get_run_info_from_dir(r_dir)\n",
      "  File \"/usr/local/lib/python3.10/dist-packages/mlflow/store/tracking/file_store.py\", line 696, in _get_run_info_from_dir\n",
      "    meta = FileStore._read_yaml(run_dir, FileStore.META_DATA_FILE_NAME)\n",
      "  File \"/usr/local/lib/python3.10/dist-packages/mlflow/store/tracking/file_store.py\", line 1306, in _read_yaml\n",
      "    return _read_helper(root, file_name, attempts_remaining=retries)\n",
      "  File \"/usr/local/lib/python3.10/dist-packages/mlflow/store/tracking/file_store.py\", line 1299, in _read_helper\n",
      "    result = read_yaml(root, file_name)\n",
      "  File \"/usr/local/lib/python3.10/dist-packages/mlflow/utils/file_utils.py\", line 282, in read_yaml\n",
      "    raise MissingConfigException(f\"Yaml file '{file_path}' does not exist.\")\n",
      "mlflow.exceptions.MissingConfigException: Yaml file '/home/pedretti/projects/CountryCrab/data/experiments/hpo_test/0/.ipynb_checkpoints/meta.yaml' does not exist.\n",
      "2024-02-28 00:33:55,420\tINFO experiment_analysis.py:972 -- No trial data passed in during `ExperimentAnalysis` initialization -- you are most likely loading the experiment after it has completed.\n",
      "Loading trial data from the experiment checkpoint file. This may result in loading some stale information, since checkpointing is periodic.\n"
     ]
    }
   ],
   "source": [
    "module_path = os.path.abspath(os.path.join(\"..\"))\n",
    "tracking_uri = module_path+'/data/experiments/hpo_test/'\n",
    "experiment_name = 'hpo_example'\n",
    "result = analyze.generate_report(tracking_uri,experiment_name)"
   ]
  },
  {
   "cell_type": "code",
   "execution_count": 28,
   "id": "06242dcd-4568-44c6-afbe-815a5eb59a4a",
   "metadata": {},
   "outputs": [],
   "source": [
    "# add number of variables to each instance\n",
    "N_V = []\n",
    "for instance in result['config/instance']:\n",
    "    tmp = re.search('uf(.*)-', instance).group(1)\n",
    "    N_V.append(int(re.search('uf(.*)', tmp).group(1)))\n",
    "result['N'] = N_V"
   ]
  },
  {
   "cell_type": "code",
   "execution_count": 29,
   "id": "68fa627a-cb88-43b8-bb5c-a50ba8a9edba",
   "metadata": {},
   "outputs": [
    {
     "data": {
      "text/html": [
       "<div>\n",
       "<style scoped>\n",
       "    .dataframe tbody tr th:only-of-type {\n",
       "        vertical-align: middle;\n",
       "    }\n",
       "\n",
       "    .dataframe tbody tr th {\n",
       "        vertical-align: top;\n",
       "    }\n",
       "\n",
       "    .dataframe thead th {\n",
       "        text-align: right;\n",
       "    }\n",
       "</style>\n",
       "<table border=\"1\" class=\"dataframe\">\n",
       "  <thead>\n",
       "    <tr style=\"text-align: right;\">\n",
       "      <th></th>\n",
       "      <th>its_opt</th>\n",
       "      <th>max_flips_opt</th>\n",
       "      <th>time_this_iter_s</th>\n",
       "      <th>done</th>\n",
       "      <th>training_iteration</th>\n",
       "      <th>trial_id</th>\n",
       "      <th>date</th>\n",
       "      <th>timestamp</th>\n",
       "      <th>time_total_s</th>\n",
       "      <th>pid</th>\n",
       "      <th>hostname</th>\n",
       "      <th>node_ip</th>\n",
       "      <th>time_since_restore</th>\n",
       "      <th>iterations_since_restore</th>\n",
       "      <th>config/instance</th>\n",
       "      <th>config/noise</th>\n",
       "      <th>logdir</th>\n",
       "      <th>N</th>\n",
       "    </tr>\n",
       "  </thead>\n",
       "  <tbody>\n",
       "    <tr>\n",
       "      <th>0</th>\n",
       "      <td>833.401441</td>\n",
       "      <td>968</td>\n",
       "      <td>10.940686</td>\n",
       "      <td>False</td>\n",
       "      <td>1</td>\n",
       "      <td>c5d36_00000</td>\n",
       "      <td>2024-02-24_00-51-13</td>\n",
       "      <td>1708735873</td>\n",
       "      <td>10.940686</td>\n",
       "      <td>27207</td>\n",
       "      <td>CountryCrab-container</td>\n",
       "      <td>172.17.0.3</td>\n",
       "      <td>10.940686</td>\n",
       "      <td>1</td>\n",
       "      <td>/home/pedretti/projects/CountryCrab/data/uf20-...</td>\n",
       "      <td>0.772091</td>\n",
       "      <td>/home/pedretti/projects/CountryCrab/data/exper...</td>\n",
       "      <td>20</td>\n",
       "    </tr>\n",
       "    <tr>\n",
       "      <th>1</th>\n",
       "      <td>286.958858</td>\n",
       "      <td>339</td>\n",
       "      <td>10.294936</td>\n",
       "      <td>False</td>\n",
       "      <td>1</td>\n",
       "      <td>c5d36_00001</td>\n",
       "      <td>2024-02-24_00-51-13</td>\n",
       "      <td>1708735873</td>\n",
       "      <td>10.294936</td>\n",
       "      <td>27208</td>\n",
       "      <td>CountryCrab-container</td>\n",
       "      <td>172.17.0.3</td>\n",
       "      <td>10.294936</td>\n",
       "      <td>1</td>\n",
       "      <td>/home/pedretti/projects/CountryCrab/data/uf20-...</td>\n",
       "      <td>0.816169</td>\n",
       "      <td>/home/pedretti/projects/CountryCrab/data/exper...</td>\n",
       "      <td>20</td>\n",
       "    </tr>\n",
       "    <tr>\n",
       "      <th>2</th>\n",
       "      <td>1957.677033</td>\n",
       "      <td>784</td>\n",
       "      <td>11.194955</td>\n",
       "      <td>False</td>\n",
       "      <td>1</td>\n",
       "      <td>c5d36_00002</td>\n",
       "      <td>2024-02-24_00-51-14</td>\n",
       "      <td>1708735874</td>\n",
       "      <td>11.194955</td>\n",
       "      <td>27209</td>\n",
       "      <td>CountryCrab-container</td>\n",
       "      <td>172.17.0.3</td>\n",
       "      <td>11.194955</td>\n",
       "      <td>1</td>\n",
       "      <td>/home/pedretti/projects/CountryCrab/data/uf20-...</td>\n",
       "      <td>0.683960</td>\n",
       "      <td>/home/pedretti/projects/CountryCrab/data/exper...</td>\n",
       "      <td>20</td>\n",
       "    </tr>\n",
       "    <tr>\n",
       "      <th>3</th>\n",
       "      <td>1106.037724</td>\n",
       "      <td>34</td>\n",
       "      <td>11.535578</td>\n",
       "      <td>False</td>\n",
       "      <td>1</td>\n",
       "      <td>c5d36_00003</td>\n",
       "      <td>2024-02-24_00-51-14</td>\n",
       "      <td>1708735874</td>\n",
       "      <td>11.535578</td>\n",
       "      <td>27210</td>\n",
       "      <td>CountryCrab-container</td>\n",
       "      <td>172.17.0.3</td>\n",
       "      <td>11.535578</td>\n",
       "      <td>1</td>\n",
       "      <td>/home/pedretti/projects/CountryCrab/data/uf20-...</td>\n",
       "      <td>0.546535</td>\n",
       "      <td>/home/pedretti/projects/CountryCrab/data/exper...</td>\n",
       "      <td>20</td>\n",
       "    </tr>\n",
       "    <tr>\n",
       "      <th>4</th>\n",
       "      <td>792.615332</td>\n",
       "      <td>829</td>\n",
       "      <td>11.367804</td>\n",
       "      <td>False</td>\n",
       "      <td>1</td>\n",
       "      <td>c5d36_00004</td>\n",
       "      <td>2024-02-24_00-51-14</td>\n",
       "      <td>1708735874</td>\n",
       "      <td>11.367804</td>\n",
       "      <td>27211</td>\n",
       "      <td>CountryCrab-container</td>\n",
       "      <td>172.17.0.3</td>\n",
       "      <td>11.367804</td>\n",
       "      <td>1</td>\n",
       "      <td>/home/pedretti/projects/CountryCrab/data/uf20-...</td>\n",
       "      <td>0.761186</td>\n",
       "      <td>/home/pedretti/projects/CountryCrab/data/exper...</td>\n",
       "      <td>20</td>\n",
       "    </tr>\n",
       "  </tbody>\n",
       "</table>\n",
       "</div>"
      ],
      "text/plain": [
       "       its_opt  max_flips_opt  time_this_iter_s   done  training_iteration  \\\n",
       "0   833.401441            968         10.940686  False                   1   \n",
       "1   286.958858            339         10.294936  False                   1   \n",
       "2  1957.677033            784         11.194955  False                   1   \n",
       "3  1106.037724             34         11.535578  False                   1   \n",
       "4   792.615332            829         11.367804  False                   1   \n",
       "\n",
       "      trial_id                 date   timestamp  time_total_s    pid  \\\n",
       "0  c5d36_00000  2024-02-24_00-51-13  1708735873     10.940686  27207   \n",
       "1  c5d36_00001  2024-02-24_00-51-13  1708735873     10.294936  27208   \n",
       "2  c5d36_00002  2024-02-24_00-51-14  1708735874     11.194955  27209   \n",
       "3  c5d36_00003  2024-02-24_00-51-14  1708735874     11.535578  27210   \n",
       "4  c5d36_00004  2024-02-24_00-51-14  1708735874     11.367804  27211   \n",
       "\n",
       "                hostname     node_ip  time_since_restore  \\\n",
       "0  CountryCrab-container  172.17.0.3           10.940686   \n",
       "1  CountryCrab-container  172.17.0.3           10.294936   \n",
       "2  CountryCrab-container  172.17.0.3           11.194955   \n",
       "3  CountryCrab-container  172.17.0.3           11.535578   \n",
       "4  CountryCrab-container  172.17.0.3           11.367804   \n",
       "\n",
       "   iterations_since_restore  \\\n",
       "0                         1   \n",
       "1                         1   \n",
       "2                         1   \n",
       "3                         1   \n",
       "4                         1   \n",
       "\n",
       "                                     config/instance  config/noise  \\\n",
       "0  /home/pedretti/projects/CountryCrab/data/uf20-...      0.772091   \n",
       "1  /home/pedretti/projects/CountryCrab/data/uf20-...      0.816169   \n",
       "2  /home/pedretti/projects/CountryCrab/data/uf20-...      0.683960   \n",
       "3  /home/pedretti/projects/CountryCrab/data/uf20-...      0.546535   \n",
       "4  /home/pedretti/projects/CountryCrab/data/uf20-...      0.761186   \n",
       "\n",
       "                                              logdir   N  \n",
       "0  /home/pedretti/projects/CountryCrab/data/exper...  20  \n",
       "1  /home/pedretti/projects/CountryCrab/data/exper...  20  \n",
       "2  /home/pedretti/projects/CountryCrab/data/exper...  20  \n",
       "3  /home/pedretti/projects/CountryCrab/data/exper...  20  \n",
       "4  /home/pedretti/projects/CountryCrab/data/exper...  20  "
      ]
     },
     "execution_count": 29,
     "metadata": {},
     "output_type": "execute_result"
    }
   ],
   "source": [
    "result.head()"
   ]
  },
  {
   "cell_type": "code",
   "execution_count": 32,
   "id": "6ec12b9c-e0fc-4dea-a102-3f1f74b7a0bd",
   "metadata": {},
   "outputs": [
    {
     "data": {
      "text/plain": [
       "Text(0, 0.5, 'ITS')"
      ]
     },
     "execution_count": 32,
     "metadata": {},
     "output_type": "execute_result"
    },
    {
     "data": {
      "image/png": "[encoded data removed]",
      "text/plain": [
       "<Figure size 320x320 with 1 Axes>"
      ]
     },
     "metadata": {},
     "output_type": "display_data"
    }
   ],
   "source": [
    "plt.plot(result['config/noise'],result['its_opt'],'o')\n",
    "plt.xlabel('Standard deviation of noise')\n",
    "plt.ylabel('ITS')"
   ]
  },
  {
   "cell_type": "code",
   "execution_count": 33,
   "id": "0648947a-8739-4a14-80dc-a422467e4ca3",
   "metadata": {},
   "outputs": [
    {
     "data": {
      "text/plain": [
       "Text(0, 0.5, 'Optimal MAX_FLIPS')"
      ]
     },
     "execution_count": 33,
     "metadata": {},
     "output_type": "execute_result"
    },
    {
     "data": {
      "image/png": "[encoded data removed]",
      "text/plain": [
       "<Figure size 320x320 with 1 Axes>"
      ]
     },
     "metadata": {},
     "output_type": "display_data"
    }
   ],
   "source": [
    "plt.plot(result['config/noise'],result['its_opt'],'o')\n",
    "plt.xlabel('Standard deviation of noise')\n",
    "plt.ylabel('Optimal MAX_FLIPS')"
   ]
  },
  {
   "cell_type": "markdown",
   "id": "edecb9f9-4270-4044-b3c9-02df460cc7f9",
   "metadata": {},
   "source": [
    "Cluster the results by instance and by size and find best noise and best MAX_FLIPS"
   ]
  },
  {
   "cell_type": "code",
   "execution_count": 34,
   "id": "42b49242-94db-4f07-b7ba-574263dcd563",
   "metadata": {},
   "outputs": [],
   "source": [
    "min_its_instance = result.iloc[result.groupby('config/instance')['its_opt'].idxmin()]\n",
    "min_its_instance_var = min_its_instance['N']\n",
    "min_its_instance_noise = min_its_instance['config/noise']\n",
    "best_noise_size = min_its_instance.groupby('N')['config/noise'].median()\n",
    "best_max_flips_size = min_its_instance.groupby('N')['max_flips_opt'].median()"
   ]
  },
  {
   "cell_type": "markdown",
   "id": "dab39677-c04d-4e51-945f-1ecc7288d85e",
   "metadata": {},
   "source": [
    "Hyperparams can be saved for later use with the scheduler. In this way the scheduler can be loaded for example with instances of different size, and for each size an optimized hp can be found"
   ]
  },
  {
   "cell_type": "code",
   "execution_count": 42,
   "id": "610641cc-2070-4f36-a079-5c123849ba5c",
   "metadata": {},
   "outputs": [],
   "source": [
    "optimized_hp ={\"N_V\" : result['N'].unique().tolist(),\n",
    "\"noise\" : best_noise_size.tolist(),\n",
    "\"max_flips_median\" : best_max_flips_size.tolist(),\n",
    "\"max_flips_max\" : (100e3*np.ones(len(best_noise_size))).tolist()}"
   ]
  },
  {
   "cell_type": "code",
   "execution_count": 44,
   "id": "fced9e84-abdd-41cc-ba83-355514e3a58e",
   "metadata": {},
   "outputs": [],
   "source": [
    "module_path = os.path.abspath(os.path.join(\"..\"))\n",
    "filename = module_path+'/data/hp/'+experiment_name+'.json'\n",
    "# Writing JSON data\n",
    "with open(filename, 'w') as f:\n",
    "    json.dump(optimized_hp, f, indent=4)\n"
   ]
  },
  {
   "cell_type": "markdown",
   "id": "65bdf841-d166-4031-9e3b-d8922db66f38",
   "metadata": {},
   "source": [
    "### Create scheduler configuration with the hyperparameters that we just optimized"
   ]
  },
  {
   "cell_type": "code",
   "execution_count": 47,
   "id": "34e25356-442c-4749-838d-221f4b830be7",
   "metadata": {},
   "outputs": [],
   "source": [
    "configuration = {\n",
    "    # Heuristic parameters\n",
    "    \"max_runs\": 10000,\n",
    "    \"max_flips\": 1000,\n",
    "    \"noise_distribution\": \"normal\",\n",
    "    # HyperParameters. num_samples points between min_noise and max_noise will be generated for each instance in the instance_list\n",
    "    \"hp_location\": filename,\n",
    "    # Experiments parameter\n",
    "    \"p_solve\": 0.99,\n",
    "    \"task\": \"solve\",\n",
    "    \"experiment_name\": \"scheduler_example\",\n",
    "    \"instance_list\": instances_test[0:10],\n",
    "}"
   ]
  },
  {
   "cell_type": "code",
   "execution_count": 48,
   "id": "0afecf9b-fb04-4412-83ce-10005decdb3e",
   "metadata": {},
   "outputs": [],
   "source": [
    "# Specify the filename\n",
    "filename = \"scheduler_example.json\"\n",
    "filename = module_path+'/config/'+filename\n",
    "# Writing JSON data\n",
    "with open(filename, 'w') as f:\n",
    "    json.dump(configuration, f, indent=4)"
   ]
  },
  {
   "cell_type": "markdown",
   "id": "b6efd149-d0a2-424e-a825-5193be1e10d8",
   "metadata": {},
   "source": [
    "### Run scheduler"
   ]
  },
  {
   "cell_type": "markdown",
   "id": "71c13086-94a5-4701-a6ee-d79c939b339b",
   "metadata": {},
   "source": [
    "Open a shell and run<br>\n",
    "`\n",
    "python3 countrycrab/scheduler.py --tracking_uri='scheduler_test' --config='config/scheduler_example.json' \n",
    "`<br><br>\n",
    "where `tracking_uri` is the mlflow uri where the experiments will be stored, and `config` the configuration file previously created"
   ]
  },
  {
   "cell_type": "markdown",
   "id": "98b417b0-1269-4d82-8afc-bfdcea36d3f9",
   "metadata": {},
   "source": [
    "### Analyze experiment"
   ]
  },
  {
   "cell_type": "code",
   "execution_count": 50,
   "id": "12d58064-21e6-45c2-8ea6-b54f6ca0994e",
   "metadata": {
    "scrolled": true
   },
   "outputs": [
    {
     "name": "stderr",
     "output_type": "stream",
     "text": [
      "2024-02-28 00:54:08,188\tINFO experiment_analysis.py:972 -- No trial data passed in during `ExperimentAnalysis` initialization -- you are most likely loading the experiment after it has completed.\n",
      "Loading trial data from the experiment checkpoint file. This may result in loading some stale information, since checkpointing is periodic.\n",
      "2024-02-28 00:54:08,222\tINFO experiment_analysis.py:972 -- No trial data passed in during `ExperimentAnalysis` initialization -- you are most likely loading the experiment after it has completed.\n",
      "Loading trial data from the experiment checkpoint file. This may result in loading some stale information, since checkpointing is periodic.\n",
      "2024-02-28 00:54:08,230\tWARNING experiment_analysis.py:916 -- Failed to read the results for 10 trials:\n",
      "- /home/pedretti/projects/CountryCrab/data/experiments/scheduler_test/0/ba62ebd2b517436bb631878ba6f1fbc2/artifacts/scheduler_example/solve_f356a_00000_0_instance=home_pedretti_projects_CountryCrab_data_uf20-91_uf20-0201_cnf_2024-02-28_00-47-29\n",
      "- /home/pedretti/projects/CountryCrab/data/experiments/scheduler_test/0/ba62ebd2b517436bb631878ba6f1fbc2/artifacts/scheduler_example/solve_f356a_00001_1_instance=home_pedretti_projects_CountryCrab_data_uf20-91_uf20-0202_cnf_2024-02-28_00-47-29\n",
      "- /home/pedretti/projects/CountryCrab/data/experiments/scheduler_test/0/ba62ebd2b517436bb631878ba6f1fbc2/artifacts/scheduler_example/solve_f356a_00002_2_instance=home_pedretti_projects_CountryCrab_data_uf20-91_uf20-0203_cnf_2024-02-28_00-47-29\n",
      "- /home/pedretti/projects/CountryCrab/data/experiments/scheduler_test/0/ba62ebd2b517436bb631878ba6f1fbc2/artifacts/scheduler_example/solve_f356a_00003_3_instance=home_pedretti_projects_CountryCrab_data_uf20-91_uf20-0204_cnf_2024-02-28_00-47-29\n",
      "- /home/pedretti/projects/CountryCrab/data/experiments/scheduler_test/0/ba62ebd2b517436bb631878ba6f1fbc2/artifacts/scheduler_example/solve_f356a_00004_4_instance=home_pedretti_projects_CountryCrab_data_uf20-91_uf20-0205_cnf_2024-02-28_00-47-29\n",
      "- /home/pedretti/projects/CountryCrab/data/experiments/scheduler_test/0/ba62ebd2b517436bb631878ba6f1fbc2/artifacts/scheduler_example/solve_f356a_00005_5_instance=home_pedretti_projects_CountryCrab_data_uf20-91_uf20-0206_cnf_2024-02-28_00-47-29\n",
      "- /home/pedretti/projects/CountryCrab/data/experiments/scheduler_test/0/ba62ebd2b517436bb631878ba6f1fbc2/artifacts/scheduler_example/solve_f356a_00006_6_instance=home_pedretti_projects_CountryCrab_data_uf20-91_uf20-0207_cnf_2024-02-28_00-47-29\n",
      "- /home/pedretti/projects/CountryCrab/data/experiments/scheduler_test/0/ba62ebd2b517436bb631878ba6f1fbc2/artifacts/scheduler_example/solve_f356a_00007_7_instance=home_pedretti_projects_CountryCrab_data_uf20-91_uf20-0208_cnf_2024-02-28_00-47-29\n",
      "- /home/pedretti/projects/CountryCrab/data/experiments/scheduler_test/0/ba62ebd2b517436bb631878ba6f1fbc2/artifacts/scheduler_example/solve_f356a_00008_8_instance=home_pedretti_projects_CountryCrab_data_uf20-91_uf20-0209_cnf_2024-02-28_00-47-29\n",
      "- /home/pedretti/projects/CountryCrab/data/experiments/scheduler_test/0/ba62ebd2b517436bb631878ba6f1fbc2/artifacts/scheduler_example/solve_f356a_00009_9_instance=home_pedretti_projects_CountryCrab_data_uf20-91_uf20-0210_cnf_2024-02-28_00-47-29\n",
      "2024-02-28 00:54:08,237\tINFO experiment_analysis.py:972 -- No trial data passed in during `ExperimentAnalysis` initialization -- you are most likely loading the experiment after it has completed.\n",
      "Loading trial data from the experiment checkpoint file. This may result in loading some stale information, since checkpointing is periodic.\n",
      "2024-02-28 00:54:08,244\tWARNING experiment_analysis.py:916 -- Failed to read the results for 10 trials:\n",
      "- /home/pedretti/projects/CountryCrab/data/experiments/scheduler_test/0/4a27cbf6693d4db7aba1f8fc01727fef/artifacts/scheduler_example/solve_cc430_00000_0_instance=home_pedretti_projects_CountryCrab_data_uf20-91_uf20-0201_cnf_2024-02-28_00-46-24\n",
      "- /home/pedretti/projects/CountryCrab/data/experiments/scheduler_test/0/4a27cbf6693d4db7aba1f8fc01727fef/artifacts/scheduler_example/solve_cc430_00001_1_instance=home_pedretti_projects_CountryCrab_data_uf20-91_uf20-0202_cnf_2024-02-28_00-46-24\n",
      "- /home/pedretti/projects/CountryCrab/data/experiments/scheduler_test/0/4a27cbf6693d4db7aba1f8fc01727fef/artifacts/scheduler_example/solve_cc430_00002_2_instance=home_pedretti_projects_CountryCrab_data_uf20-91_uf20-0203_cnf_2024-02-28_00-46-24\n",
      "- /home/pedretti/projects/CountryCrab/data/experiments/scheduler_test/0/4a27cbf6693d4db7aba1f8fc01727fef/artifacts/scheduler_example/solve_cc430_00003_3_instance=home_pedretti_projects_CountryCrab_data_uf20-91_uf20-0204_cnf_2024-02-28_00-46-24\n",
      "- /home/pedretti/projects/CountryCrab/data/experiments/scheduler_test/0/4a27cbf6693d4db7aba1f8fc01727fef/artifacts/scheduler_example/solve_cc430_00004_4_instance=home_pedretti_projects_CountryCrab_data_uf20-91_uf20-0205_cnf_2024-02-28_00-46-24\n",
      "- /home/pedretti/projects/CountryCrab/data/experiments/scheduler_test/0/4a27cbf6693d4db7aba1f8fc01727fef/artifacts/scheduler_example/solve_cc430_00005_5_instance=home_pedretti_projects_CountryCrab_data_uf20-91_uf20-0206_cnf_2024-02-28_00-46-24\n",
      "- /home/pedretti/projects/CountryCrab/data/experiments/scheduler_test/0/4a27cbf6693d4db7aba1f8fc01727fef/artifacts/scheduler_example/solve_cc430_00006_6_instance=home_pedretti_projects_CountryCrab_data_uf20-91_uf20-0207_cnf_2024-02-28_00-46-24\n",
      "- /home/pedretti/projects/CountryCrab/data/experiments/scheduler_test/0/4a27cbf6693d4db7aba1f8fc01727fef/artifacts/scheduler_example/solve_cc430_00007_7_instance=home_pedretti_projects_CountryCrab_data_uf20-91_uf20-0208_cnf_2024-02-28_00-46-24\n",
      "- /home/pedretti/projects/CountryCrab/data/experiments/scheduler_test/0/4a27cbf6693d4db7aba1f8fc01727fef/artifacts/scheduler_example/solve_cc430_00008_8_instance=home_pedretti_projects_CountryCrab_data_uf20-91_uf20-0209_cnf_2024-02-28_00-46-24\n",
      "- /home/pedretti/projects/CountryCrab/data/experiments/scheduler_test/0/4a27cbf6693d4db7aba1f8fc01727fef/artifacts/scheduler_example/solve_cc430_00009_9_instance=home_pedretti_projects_CountryCrab_data_uf20-91_uf20-0210_cnf_2024-02-28_00-46-24\n",
      "2024-02-28 00:54:08,250\tINFO experiment_analysis.py:972 -- No trial data passed in during `ExperimentAnalysis` initialization -- you are most likely loading the experiment after it has completed.\n",
      "Loading trial data from the experiment checkpoint file. This may result in loading some stale information, since checkpointing is periodic.\n",
      "2024-02-28 00:54:08,257\tWARNING experiment_analysis.py:916 -- Failed to read the results for 10 trials:\n",
      "- /home/pedretti/projects/CountryCrab/data/experiments/scheduler_test/0/a3bcd14c95b3452ba0906654e6b3f574/artifacts/scheduler_example/solve_a7089_00000_0_instance=home_pedretti_projects_CountryCrab_data_uf20-91_uf20-0201_cnf_2024-02-28_00-45-21\n",
      "- /home/pedretti/projects/CountryCrab/data/experiments/scheduler_test/0/a3bcd14c95b3452ba0906654e6b3f574/artifacts/scheduler_example/solve_a7089_00001_1_instance=home_pedretti_projects_CountryCrab_data_uf20-91_uf20-0202_cnf_2024-02-28_00-45-21\n",
      "- /home/pedretti/projects/CountryCrab/data/experiments/scheduler_test/0/a3bcd14c95b3452ba0906654e6b3f574/artifacts/scheduler_example/solve_a7089_00002_2_instance=home_pedretti_projects_CountryCrab_data_uf20-91_uf20-0203_cnf_2024-02-28_00-45-21\n",
      "- /home/pedretti/projects/CountryCrab/data/experiments/scheduler_test/0/a3bcd14c95b3452ba0906654e6b3f574/artifacts/scheduler_example/solve_a7089_00003_3_instance=home_pedretti_projects_CountryCrab_data_uf20-91_uf20-0204_cnf_2024-02-28_00-45-21\n",
      "- /home/pedretti/projects/CountryCrab/data/experiments/scheduler_test/0/a3bcd14c95b3452ba0906654e6b3f574/artifacts/scheduler_example/solve_a7089_00004_4_instance=home_pedretti_projects_CountryCrab_data_uf20-91_uf20-0205_cnf_2024-02-28_00-45-21\n",
      "- /home/pedretti/projects/CountryCrab/data/experiments/scheduler_test/0/a3bcd14c95b3452ba0906654e6b3f574/artifacts/scheduler_example/solve_a7089_00005_5_instance=home_pedretti_projects_CountryCrab_data_uf20-91_uf20-0206_cnf_2024-02-28_00-45-21\n",
      "- /home/pedretti/projects/CountryCrab/data/experiments/scheduler_test/0/a3bcd14c95b3452ba0906654e6b3f574/artifacts/scheduler_example/solve_a7089_00006_6_instance=home_pedretti_projects_CountryCrab_data_uf20-91_uf20-0207_cnf_2024-02-28_00-45-21\n",
      "- /home/pedretti/projects/CountryCrab/data/experiments/scheduler_test/0/a3bcd14c95b3452ba0906654e6b3f574/artifacts/scheduler_example/solve_a7089_00007_7_instance=home_pedretti_projects_CountryCrab_data_uf20-91_uf20-0208_cnf_2024-02-28_00-45-21\n",
      "- /home/pedretti/projects/CountryCrab/data/experiments/scheduler_test/0/a3bcd14c95b3452ba0906654e6b3f574/artifacts/scheduler_example/solve_a7089_00008_8_instance=home_pedretti_projects_CountryCrab_data_uf20-91_uf20-0209_cnf_2024-02-28_00-45-21\n",
      "- /home/pedretti/projects/CountryCrab/data/experiments/scheduler_test/0/a3bcd14c95b3452ba0906654e6b3f574/artifacts/scheduler_example/solve_a7089_00009_9_instance=home_pedretti_projects_CountryCrab_data_uf20-91_uf20-0210_cnf_2024-02-28_00-45-21\n"
     ]
    }
   ],
   "source": [
    "module_path = os.path.abspath(os.path.join(\"..\"))\n",
    "tracking_uri = module_path+'/data/experiments/scheduler_test'\n",
    "experiment_name = 'scheduler_example'\n",
    "result = analyze.generate_report(tracking_uri,experiment_name)"
   ]
  },
  {
   "cell_type": "code",
   "execution_count": 51,
   "id": "9fc5a24a-7f52-4e31-b52c-beeb30a2967a",
   "metadata": {},
   "outputs": [
    {
     "data": {
      "text/html": [
       "<div>\n",
       "<style scoped>\n",
       "    .dataframe tbody tr th:only-of-type {\n",
       "        vertical-align: middle;\n",
       "    }\n",
       "\n",
       "    .dataframe tbody tr th {\n",
       "        vertical-align: top;\n",
       "    }\n",
       "\n",
       "    .dataframe thead th {\n",
       "        text-align: right;\n",
       "    }\n",
       "</style>\n",
       "<table border=\"1\" class=\"dataframe\">\n",
       "  <thead>\n",
       "    <tr style=\"text-align: right;\">\n",
       "      <th></th>\n",
       "      <th>its</th>\n",
       "      <th>time_this_iter_s</th>\n",
       "      <th>done</th>\n",
       "      <th>training_iteration</th>\n",
       "      <th>trial_id</th>\n",
       "      <th>date</th>\n",
       "      <th>timestamp</th>\n",
       "      <th>time_total_s</th>\n",
       "      <th>pid</th>\n",
       "      <th>hostname</th>\n",
       "      <th>node_ip</th>\n",
       "      <th>time_since_restore</th>\n",
       "      <th>iterations_since_restore</th>\n",
       "      <th>config/instance</th>\n",
       "      <th>logdir</th>\n",
       "    </tr>\n",
       "  </thead>\n",
       "  <tbody>\n",
       "    <tr>\n",
       "      <th>0</th>\n",
       "      <td>946.803140</td>\n",
       "      <td>1.983884</td>\n",
       "      <td>False</td>\n",
       "      <td>1</td>\n",
       "      <td>1432c_00000</td>\n",
       "      <td>2024-02-28_00-48-30</td>\n",
       "      <td>1709081310</td>\n",
       "      <td>1.983884</td>\n",
       "      <td>14923</td>\n",
       "      <td>CountryCrab-container</td>\n",
       "      <td>172.17.0.3</td>\n",
       "      <td>1.983884</td>\n",
       "      <td>1</td>\n",
       "      <td>/home/pedretti/projects/CountryCrab/data/uf20-...</td>\n",
       "      <td>/home/pedretti/projects/CountryCrab/data/exper...</td>\n",
       "    </tr>\n",
       "    <tr>\n",
       "      <th>1</th>\n",
       "      <td>954.748356</td>\n",
       "      <td>1.983915</td>\n",
       "      <td>False</td>\n",
       "      <td>1</td>\n",
       "      <td>1432c_00001</td>\n",
       "      <td>2024-02-28_00-48-30</td>\n",
       "      <td>1709081310</td>\n",
       "      <td>1.983915</td>\n",
       "      <td>14924</td>\n",
       "      <td>CountryCrab-container</td>\n",
       "      <td>172.17.0.3</td>\n",
       "      <td>1.983915</td>\n",
       "      <td>1</td>\n",
       "      <td>/home/pedretti/projects/CountryCrab/data/uf20-...</td>\n",
       "      <td>/home/pedretti/projects/CountryCrab/data/exper...</td>\n",
       "    </tr>\n",
       "    <tr>\n",
       "      <th>2</th>\n",
       "      <td>2050.248386</td>\n",
       "      <td>2.551548</td>\n",
       "      <td>False</td>\n",
       "      <td>1</td>\n",
       "      <td>1432c_00002</td>\n",
       "      <td>2024-02-28_00-48-31</td>\n",
       "      <td>1709081311</td>\n",
       "      <td>2.551548</td>\n",
       "      <td>14925</td>\n",
       "      <td>CountryCrab-container</td>\n",
       "      <td>172.17.0.3</td>\n",
       "      <td>2.551548</td>\n",
       "      <td>1</td>\n",
       "      <td>/home/pedretti/projects/CountryCrab/data/uf20-...</td>\n",
       "      <td>/home/pedretti/projects/CountryCrab/data/exper...</td>\n",
       "    </tr>\n",
       "    <tr>\n",
       "      <th>3</th>\n",
       "      <td>436.187114</td>\n",
       "      <td>2.502910</td>\n",
       "      <td>False</td>\n",
       "      <td>1</td>\n",
       "      <td>1432c_00003</td>\n",
       "      <td>2024-02-28_00-48-31</td>\n",
       "      <td>1709081311</td>\n",
       "      <td>2.502910</td>\n",
       "      <td>14926</td>\n",
       "      <td>CountryCrab-container</td>\n",
       "      <td>172.17.0.3</td>\n",
       "      <td>2.502910</td>\n",
       "      <td>1</td>\n",
       "      <td>/home/pedretti/projects/CountryCrab/data/uf20-...</td>\n",
       "      <td>/home/pedretti/projects/CountryCrab/data/exper...</td>\n",
       "    </tr>\n",
       "    <tr>\n",
       "      <th>4</th>\n",
       "      <td>742.581512</td>\n",
       "      <td>1.984269</td>\n",
       "      <td>False</td>\n",
       "      <td>1</td>\n",
       "      <td>1432c_00004</td>\n",
       "      <td>2024-02-28_00-48-30</td>\n",
       "      <td>1709081310</td>\n",
       "      <td>1.984269</td>\n",
       "      <td>14927</td>\n",
       "      <td>CountryCrab-container</td>\n",
       "      <td>172.17.0.3</td>\n",
       "      <td>1.984269</td>\n",
       "      <td>1</td>\n",
       "      <td>/home/pedretti/projects/CountryCrab/data/uf20-...</td>\n",
       "      <td>/home/pedretti/projects/CountryCrab/data/exper...</td>\n",
       "    </tr>\n",
       "  </tbody>\n",
       "</table>\n",
       "</div>"
      ],
      "text/plain": [
       "           its  time_this_iter_s   done  training_iteration     trial_id  \\\n",
       "0   946.803140          1.983884  False                   1  1432c_00000   \n",
       "1   954.748356          1.983915  False                   1  1432c_00001   \n",
       "2  2050.248386          2.551548  False                   1  1432c_00002   \n",
       "3   436.187114          2.502910  False                   1  1432c_00003   \n",
       "4   742.581512          1.984269  False                   1  1432c_00004   \n",
       "\n",
       "                  date   timestamp  time_total_s    pid  \\\n",
       "0  2024-02-28_00-48-30  1709081310      1.983884  14923   \n",
       "1  2024-02-28_00-48-30  1709081310      1.983915  14924   \n",
       "2  2024-02-28_00-48-31  1709081311      2.551548  14925   \n",
       "3  2024-02-28_00-48-31  1709081311      2.502910  14926   \n",
       "4  2024-02-28_00-48-30  1709081310      1.984269  14927   \n",
       "\n",
       "                hostname     node_ip  time_since_restore  \\\n",
       "0  CountryCrab-container  172.17.0.3            1.983884   \n",
       "1  CountryCrab-container  172.17.0.3            1.983915   \n",
       "2  CountryCrab-container  172.17.0.3            2.551548   \n",
       "3  CountryCrab-container  172.17.0.3            2.502910   \n",
       "4  CountryCrab-container  172.17.0.3            1.984269   \n",
       "\n",
       "   iterations_since_restore  \\\n",
       "0                         1   \n",
       "1                         1   \n",
       "2                         1   \n",
       "3                         1   \n",
       "4                         1   \n",
       "\n",
       "                                     config/instance  \\\n",
       "0  /home/pedretti/projects/CountryCrab/data/uf20-...   \n",
       "1  /home/pedretti/projects/CountryCrab/data/uf20-...   \n",
       "2  /home/pedretti/projects/CountryCrab/data/uf20-...   \n",
       "3  /home/pedretti/projects/CountryCrab/data/uf20-...   \n",
       "4  /home/pedretti/projects/CountryCrab/data/uf20-...   \n",
       "\n",
       "                                              logdir  \n",
       "0  /home/pedretti/projects/CountryCrab/data/exper...  \n",
       "1  /home/pedretti/projects/CountryCrab/data/exper...  \n",
       "2  /home/pedretti/projects/CountryCrab/data/exper...  \n",
       "3  /home/pedretti/projects/CountryCrab/data/exper...  \n",
       "4  /home/pedretti/projects/CountryCrab/data/exper...  "
      ]
     },
     "execution_count": 51,
     "metadata": {},
     "output_type": "execute_result"
    }
   ],
   "source": [
    "result.head()"
   ]
  },
  {
   "cell_type": "code",
   "execution_count": 53,
   "id": "f946496b-09f1-4c64-9ad3-5a4a8a34696a",
   "metadata": {},
   "outputs": [
    {
     "data": {
      "text/plain": [
       "Text(0, 0.5, 'ITS$_{99}$')"
      ]
     },
     "execution_count": 53,
     "metadata": {},
     "output_type": "execute_result"
    },
    {
     "data": {
      "image/png": "[encoded data removed]",
      "text/plain": [
       "<Figure size 320x320 with 1 Axes>"
      ]
     },
     "metadata": {},
     "output_type": "display_data"
    }
   ],
   "source": [
    "plt.plot(result['its'],'o')\n",
    "plt.xlabel('Instance')\n",
    "plt.ylabel('ITS$_{99}$')"
   ]
  },
  {
   "cell_type": "code",
   "execution_count": null,
   "id": "929386a4-13a9-4160-810b-8649a09e3301",
   "metadata": {},
   "outputs": [],
   "source": []
  }
 ],
 "metadata": {
  "kernelspec": {
   "display_name": "Python 3 (ipykernel)",
   "language": "python",
   "name": "python3"
  },
  "language_info": {
   "codemirror_mode": {
    "name": "ipython",
    "version": 3
   },
   "file_extension": ".py",
   "mimetype": "text/x-python",
   "name": "python",
   "nbconvert_exporter": "python",
   "pygments_lexer": "ipython3",
   "version": "3.10.12"
  }
 },
 "nbformat": 4,
 "nbformat_minor": 5
}
