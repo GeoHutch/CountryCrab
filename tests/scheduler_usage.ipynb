{
 "cells": [
  {
   "cell_type": "code",
   "execution_count": 20,
   "id": "f7f841be-6e8f-436d-a327-e4ac91711763",
   "metadata": {},
   "outputs": [
    {
     "name": "stdout",
     "output_type": "stream",
     "text": [
      "The autoreload extension is already loaded. To reload it, use:\n",
      "  %reload_ext autoreload\n"
     ]
    },
    {
     "name": "stderr",
     "output_type": "stream",
     "text": [
      "2024-02-24 00:36:15,257\tINFO util.py:159 -- Missing packages: ['ipywidgets']. Run `pip install -U ipywidgets`, then restart the notebook server for rich notebook output.\n",
      "2024-02-24 00:36:15,449\tINFO util.py:159 -- Missing packages: ['ipywidgets']. Run `pip install -U ipywidgets`, then restart the notebook server for rich notebook output.\n"
     ]
    }
   ],
   "source": [
    "%load_ext autoreload\n",
    "\n",
    "%autoreload 2\n",
    "\n",
    "from countrycrab import configure\n",
    "from countrycrab import analyze\n",
    "import os\n",
    "import matplotlib.pyplot as plt\n",
    "import numpy as np\n",
    "import json\n",
    "os.environ[\"CUDA_VISIBLE_DEVICES\"]=\"0,1,2,3,4,5,6,7\""
   ]
  },
  {
   "cell_type": "markdown",
   "id": "dcb52676-5e9b-4004-85ea-9bf0041a5981",
   "metadata": {},
   "source": [
    "### Generate a list of instances for hyperparameters optimization and testing"
   ]
  },
  {
   "cell_type": "markdown",
   "id": "e2090ac1-475d-4432-b8a0-064714e8bb71",
   "metadata": {},
   "source": [
    "In the case, all instance from the SATLIB dataset uf20-91 https://www.cs.ubc.ca/~hoos/SATLIB/benchm.html are in the /data folder\n",
    "\n",
    "20% of them are selected for hyperparemeters optimization and remaining 80% for testing"
   ]
  },
  {
   "cell_type": "code",
   "execution_count": 12,
   "id": "1909d2a3-7d45-46d3-87c3-ec713fdf2f17",
   "metadata": {},
   "outputs": [],
   "source": [
    "module_path = os.path.abspath(os.path.join(\"..\"))\n",
    "instances_path = module_path+'/data/uf20-91/'\n",
    "instances_hpo, instances_test = configure.split_hpo_test(instances_path,hpo_test = 0.2)"
   ]
  },
  {
   "cell_type": "markdown",
   "id": "49916af1-1fcc-43dc-8157-16e58e78f4c8",
   "metadata": {},
   "source": [
    "### Create a configuration file for Hyper Parameters Optimization and save it in the config solver"
   ]
  },
  {
   "cell_type": "code",
   "execution_count": 27,
   "id": "2c200e0c-71cf-4034-a243-5e12a084f9d5",
   "metadata": {},
   "outputs": [],
   "source": [
    "configuration = {\n",
    "    # Heuristic parameters\n",
    "    \"max_runs\": 10000,\n",
    "    \"max_flips\": 1000,\n",
    "    \"noise_distribution\": \"normal\",\n",
    "    # HyperParameters. num_samples points between min_noise and max_noise will be generated for each instance in the instance_list\n",
    "    \"min_noise\":0.5,\n",
    "    \"max_noise\":1,\n",
    "    \"num_samples\": 5,\n",
    "    # Experiments parameter\n",
    "    \"p_solve\": 0.99,\n",
    "    \"task\": \"hpo\",\n",
    "    \"experiment_name\": \"hpo_example\",\n",
    "    \"instance_list\": instances_hpo[0:10],\n",
    "}"
   ]
  },
  {
   "cell_type": "code",
   "execution_count": 28,
   "id": "ae26704e-4cb0-4a7e-8ae0-f266a23b4544",
   "metadata": {},
   "outputs": [],
   "source": [
    "# Specify the filename\n",
    "filename = \"hpo_example.json\"\n",
    "filename = module_path+'/config/'+filename\n",
    "# Writing JSON data\n",
    "with open(filename, 'w') as f:\n",
    "    json.dump(configuration, f, indent=4)\n"
   ]
  },
  {
   "cell_type": "markdown",
   "id": "c1b0a1ac-2fbe-439f-bd91-e01d02384967",
   "metadata": {},
   "source": [
    "### Run the hyperparameters optimization experiment"
   ]
  },
  {
   "cell_type": "markdown",
   "id": "04ef507d-7063-4dfd-806d-70247723cdf2",
   "metadata": {},
   "source": [
    "Open a shell and run<br>\n",
    "`\n",
    "python3 countrycrab/hpo.py --tracking_uri='hpo_test' --config='hpo_example.json' \n",
    "`<br><br>\n",
    "where `tracking_uri` is the mlflow uri where the experiments will be stored, and `config` the configuration file previously created"
   ]
  },
  {
   "cell_type": "markdown",
   "id": "2932b0cd-cd66-46a5-a8c9-4989c787f911",
   "metadata": {},
   "source": [
    "### Analyze the hyperparameters optimization experiment"
   ]
  },
  {
   "cell_type": "code",
   "execution_count": 29,
   "id": "efdfe327-e06e-4dd0-a57d-b30d20f9e5e0",
   "metadata": {},
   "outputs": [
    {
     "name": "stderr",
     "output_type": "stream",
     "text": [
      "WARNING:root:Malformed run '.ipynb_checkpoints'. Detailed error Yaml file '/home/pedretti/projects/CountryCrab/data/experiments/hpo_test/0/.ipynb_checkpoints/meta.yaml' does not exist.\n",
      "Traceback (most recent call last):\n",
      "  File \"/usr/local/lib/python3.10/dist-packages/mlflow/store/tracking/file_store.py\", line 885, in _list_run_infos\n",
      "    run_info = self._get_run_info_from_dir(r_dir)\n",
      "  File \"/usr/local/lib/python3.10/dist-packages/mlflow/store/tracking/file_store.py\", line 696, in _get_run_info_from_dir\n",
      "    meta = FileStore._read_yaml(run_dir, FileStore.META_DATA_FILE_NAME)\n",
      "  File \"/usr/local/lib/python3.10/dist-packages/mlflow/store/tracking/file_store.py\", line 1306, in _read_yaml\n",
      "    return _read_helper(root, file_name, attempts_remaining=retries)\n",
      "  File \"/usr/local/lib/python3.10/dist-packages/mlflow/store/tracking/file_store.py\", line 1299, in _read_helper\n",
      "    result = read_yaml(root, file_name)\n",
      "  File \"/usr/local/lib/python3.10/dist-packages/mlflow/utils/file_utils.py\", line 282, in read_yaml\n",
      "    raise MissingConfigException(f\"Yaml file '{file_path}' does not exist.\")\n",
      "mlflow.exceptions.MissingConfigException: Yaml file '/home/pedretti/projects/CountryCrab/data/experiments/hpo_test/0/.ipynb_checkpoints/meta.yaml' does not exist.\n",
      "2024-02-24 00:51:29,193\tINFO experiment_analysis.py:972 -- No trial data passed in during `ExperimentAnalysis` initialization -- you are most likely loading the experiment after it has completed.\n",
      "Loading trial data from the experiment checkpoint file. This may result in loading some stale information, since checkpointing is periodic.\n"
     ]
    }
   ],
   "source": [
    "tracking_uri = module_path+'/data/experiments/hpo_test/'\n",
    "experiment_name = 'hpo_example'\n",
    "result = analyze.generate_report_hpo(tracking_uri,experiment_name)"
   ]
  },
  {
   "cell_type": "code",
   "execution_count": 33,
   "id": "06242dcd-4568-44c6-afbe-815a5eb59a4a",
   "metadata": {},
   "outputs": [
    {
     "data": {
      "text/html": [
       "<div>\n",
       "<style scoped>\n",
       "    .dataframe tbody tr th:only-of-type {\n",
       "        vertical-align: middle;\n",
       "    }\n",
       "\n",
       "    .dataframe tbody tr th {\n",
       "        vertical-align: top;\n",
       "    }\n",
       "\n",
       "    .dataframe thead th {\n",
       "        text-align: right;\n",
       "    }\n",
       "</style>\n",
       "<table border=\"1\" class=\"dataframe\">\n",
       "  <thead>\n",
       "    <tr style=\"text-align: right;\">\n",
       "      <th></th>\n",
       "      <th>its_opt</th>\n",
       "      <th>max_flips_opt</th>\n",
       "      <th>time_this_iter_s</th>\n",
       "      <th>done</th>\n",
       "      <th>training_iteration</th>\n",
       "      <th>trial_id</th>\n",
       "      <th>date</th>\n",
       "      <th>timestamp</th>\n",
       "      <th>time_total_s</th>\n",
       "      <th>pid</th>\n",
       "      <th>hostname</th>\n",
       "      <th>node_ip</th>\n",
       "      <th>time_since_restore</th>\n",
       "      <th>iterations_since_restore</th>\n",
       "      <th>config/instance</th>\n",
       "      <th>config/noise</th>\n",
       "      <th>logdir</th>\n",
       "    </tr>\n",
       "  </thead>\n",
       "  <tbody>\n",
       "    <tr>\n",
       "      <th>0</th>\n",
       "      <td>833.401441</td>\n",
       "      <td>968</td>\n",
       "      <td>10.940686</td>\n",
       "      <td>False</td>\n",
       "      <td>1</td>\n",
       "      <td>c5d36_00000</td>\n",
       "      <td>2024-02-24_00-51-13</td>\n",
       "      <td>1708735873</td>\n",
       "      <td>10.940686</td>\n",
       "      <td>27207</td>\n",
       "      <td>CountryCrab-container</td>\n",
       "      <td>172.17.0.3</td>\n",
       "      <td>10.940686</td>\n",
       "      <td>1</td>\n",
       "      <td>/home/pedretti/projects/CountryCrab/data/uf20-...</td>\n",
       "      <td>0.772091</td>\n",
       "      <td>/home/pedretti/projects/CountryCrab/data/exper...</td>\n",
       "    </tr>\n",
       "    <tr>\n",
       "      <th>1</th>\n",
       "      <td>286.958858</td>\n",
       "      <td>339</td>\n",
       "      <td>10.294936</td>\n",
       "      <td>False</td>\n",
       "      <td>1</td>\n",
       "      <td>c5d36_00001</td>\n",
       "      <td>2024-02-24_00-51-13</td>\n",
       "      <td>1708735873</td>\n",
       "      <td>10.294936</td>\n",
       "      <td>27208</td>\n",
       "      <td>CountryCrab-container</td>\n",
       "      <td>172.17.0.3</td>\n",
       "      <td>10.294936</td>\n",
       "      <td>1</td>\n",
       "      <td>/home/pedretti/projects/CountryCrab/data/uf20-...</td>\n",
       "      <td>0.816169</td>\n",
       "      <td>/home/pedretti/projects/CountryCrab/data/exper...</td>\n",
       "    </tr>\n",
       "    <tr>\n",
       "      <th>2</th>\n",
       "      <td>1957.677033</td>\n",
       "      <td>784</td>\n",
       "      <td>11.194955</td>\n",
       "      <td>False</td>\n",
       "      <td>1</td>\n",
       "      <td>c5d36_00002</td>\n",
       "      <td>2024-02-24_00-51-14</td>\n",
       "      <td>1708735874</td>\n",
       "      <td>11.194955</td>\n",
       "      <td>27209</td>\n",
       "      <td>CountryCrab-container</td>\n",
       "      <td>172.17.0.3</td>\n",
       "      <td>11.194955</td>\n",
       "      <td>1</td>\n",
       "      <td>/home/pedretti/projects/CountryCrab/data/uf20-...</td>\n",
       "      <td>0.683960</td>\n",
       "      <td>/home/pedretti/projects/CountryCrab/data/exper...</td>\n",
       "    </tr>\n",
       "    <tr>\n",
       "      <th>3</th>\n",
       "      <td>1106.037724</td>\n",
       "      <td>34</td>\n",
       "      <td>11.535578</td>\n",
       "      <td>False</td>\n",
       "      <td>1</td>\n",
       "      <td>c5d36_00003</td>\n",
       "      <td>2024-02-24_00-51-14</td>\n",
       "      <td>1708735874</td>\n",
       "      <td>11.535578</td>\n",
       "      <td>27210</td>\n",
       "      <td>CountryCrab-container</td>\n",
       "      <td>172.17.0.3</td>\n",
       "      <td>11.535578</td>\n",
       "      <td>1</td>\n",
       "      <td>/home/pedretti/projects/CountryCrab/data/uf20-...</td>\n",
       "      <td>0.546535</td>\n",
       "      <td>/home/pedretti/projects/CountryCrab/data/exper...</td>\n",
       "    </tr>\n",
       "    <tr>\n",
       "      <th>4</th>\n",
       "      <td>792.615332</td>\n",
       "      <td>829</td>\n",
       "      <td>11.367804</td>\n",
       "      <td>False</td>\n",
       "      <td>1</td>\n",
       "      <td>c5d36_00004</td>\n",
       "      <td>2024-02-24_00-51-14</td>\n",
       "      <td>1708735874</td>\n",
       "      <td>11.367804</td>\n",
       "      <td>27211</td>\n",
       "      <td>CountryCrab-container</td>\n",
       "      <td>172.17.0.3</td>\n",
       "      <td>11.367804</td>\n",
       "      <td>1</td>\n",
       "      <td>/home/pedretti/projects/CountryCrab/data/uf20-...</td>\n",
       "      <td>0.761186</td>\n",
       "      <td>/home/pedretti/projects/CountryCrab/data/exper...</td>\n",
       "    </tr>\n",
       "  </tbody>\n",
       "</table>\n",
       "</div>"
      ],
      "text/plain": [
       "       its_opt  max_flips_opt  time_this_iter_s   done  training_iteration  \\\n",
       "0   833.401441            968         10.940686  False                   1   \n",
       "1   286.958858            339         10.294936  False                   1   \n",
       "2  1957.677033            784         11.194955  False                   1   \n",
       "3  1106.037724             34         11.535578  False                   1   \n",
       "4   792.615332            829         11.367804  False                   1   \n",
       "\n",
       "      trial_id                 date   timestamp  time_total_s    pid  \\\n",
       "0  c5d36_00000  2024-02-24_00-51-13  1708735873     10.940686  27207   \n",
       "1  c5d36_00001  2024-02-24_00-51-13  1708735873     10.294936  27208   \n",
       "2  c5d36_00002  2024-02-24_00-51-14  1708735874     11.194955  27209   \n",
       "3  c5d36_00003  2024-02-24_00-51-14  1708735874     11.535578  27210   \n",
       "4  c5d36_00004  2024-02-24_00-51-14  1708735874     11.367804  27211   \n",
       "\n",
       "                hostname     node_ip  time_since_restore  \\\n",
       "0  CountryCrab-container  172.17.0.3           10.940686   \n",
       "1  CountryCrab-container  172.17.0.3           10.294936   \n",
       "2  CountryCrab-container  172.17.0.3           11.194955   \n",
       "3  CountryCrab-container  172.17.0.3           11.535578   \n",
       "4  CountryCrab-container  172.17.0.3           11.367804   \n",
       "\n",
       "   iterations_since_restore  \\\n",
       "0                         1   \n",
       "1                         1   \n",
       "2                         1   \n",
       "3                         1   \n",
       "4                         1   \n",
       "\n",
       "                                     config/instance  config/noise  \\\n",
       "0  /home/pedretti/projects/CountryCrab/data/uf20-...      0.772091   \n",
       "1  /home/pedretti/projects/CountryCrab/data/uf20-...      0.816169   \n",
       "2  /home/pedretti/projects/CountryCrab/data/uf20-...      0.683960   \n",
       "3  /home/pedretti/projects/CountryCrab/data/uf20-...      0.546535   \n",
       "4  /home/pedretti/projects/CountryCrab/data/uf20-...      0.761186   \n",
       "\n",
       "                                              logdir  \n",
       "0  /home/pedretti/projects/CountryCrab/data/exper...  \n",
       "1  /home/pedretti/projects/CountryCrab/data/exper...  \n",
       "2  /home/pedretti/projects/CountryCrab/data/exper...  \n",
       "3  /home/pedretti/projects/CountryCrab/data/exper...  \n",
       "4  /home/pedretti/projects/CountryCrab/data/exper...  "
      ]
     },
     "execution_count": 33,
     "metadata": {},
     "output_type": "execute_result"
    }
   ],
   "source": [
    "result.head()"
   ]
  },
  {
   "cell_type": "code",
   "execution_count": 32,
   "id": "6ec12b9c-e0fc-4dea-a102-3f1f74b7a0bd",
   "metadata": {},
   "outputs": [
    {
     "data": {
      "text/plain": [
       "[<matplotlib.lines.Line2D at 0x7f9974dd9330>]"
      ]
     },
     "execution_count": 32,
     "metadata": {},
     "output_type": "execute_result"
    },
    {
     "data": {
      "image/png": "[encoded data removed]",
      "text/plain": [
       "<Figure size 640x480 with 1 Axes>"
      ]
     },
     "metadata": {},
     "output_type": "display_data"
    }
   ],
   "source": [
    "plt.plot(result['config/noise'],result['its_opt'],'o')"
   ]
  },
  {
   "cell_type": "code",
   "execution_count": 23,
   "id": "c6c2ca52-94ed-42e5-9144-27a87a6ce53d",
   "metadata": {},
   "outputs": [
    {
     "data": {
      "text/plain": [
       "'/home/pedretti/projects/CountryCrab'"
      ]
     },
     "execution_count": 23,
     "metadata": {},
     "output_type": "execute_result"
    }
   ],
   "source": [
    "module_path"
   ]
  },
  {
   "cell_type": "code",
   "execution_count": null,
   "id": "610641cc-2070-4f36-a079-5c123849ba5c",
   "metadata": {},
   "outputs": [],
   "source": []
  }
 ],
 "metadata": {
  "kernelspec": {
   "display_name": "Python 3 (ipykernel)",
   "language": "python",
   "name": "python3"
  },
  "language_info": {
   "codemirror_mode": {
    "name": "ipython",
    "version": 3
   },
   "file_extension": ".py",
   "mimetype": "text/x-python",
   "name": "python",
   "nbconvert_exporter": "python",
   "pygments_lexer": "ipython3",
   "version": "3.10.12"
  }
 },
 "nbformat": 4,
 "nbformat_minor": 5
}
